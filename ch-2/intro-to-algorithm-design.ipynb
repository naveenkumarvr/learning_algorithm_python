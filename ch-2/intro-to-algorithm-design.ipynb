{
 "cells": [
  {
   "cell_type": "markdown",
   "metadata": {},
   "source": [
    "## What an efficient algorithm should have\n",
    "- It should be as specific as possible\n",
    "- It should have each instruction properly defined\n",
    "- There should not be any ambiguous instruction\n",
    "- All the instructions in the algorithm should be executed in finite amount of time in finite number of steps\n",
    "- It should have clear input and output to solve the problem\n",
    "- Each instruction of the algorithm should be integral in solving given problem\n",
    "\n",
    "## Things to keep in mind when defining the algorithm\n",
    "- The algorithm should be correct and should produce the results as expected for all input values\n",
    "- The algorithm should be optimal in the sense that it should be executed on the computer within the desired time limit, in line with a optimal memory space requirement\n",
    "\n",
    "## Performance Analysis of algorithm\n",
    "<strong> The performance of the algorithm is measured by the size of its input data 'n', and the time ad the memory space used by the algorithm </strong>\n",
    "- The time required is measured by the key operations to be performed by the algorithm (such as comparison operation ). Because the key operations are the instructions that takes significant amount of time.\n",
    "- The space requirement is measured by the memory needed to store the variable, constants, and instructions during the execution of the program."
   ]
  },
  {
   "cell_type": "markdown",
   "metadata": {},
   "source": [
    "\n",
    "\n",
    "## Time Complexity \n",
    "- The time complexity of the algorithm is the amount of time that an algorithm will take to execute on a computer system to produce an output.\n",
    "- The running time required by an algorithm depends on inputs size 'n'. If the size of the input is big the run time of the algorithm will be high. \n",
    "\n",
    "### Worst case running time\n",
    "**The worst-case running time of the algorithm is the upper-bound complexity, it is the maximum runtime required for an algorithm to execute for any given input.**\n",
    "- This parameter is very useful because it guarantees that for any given inputs the time taken to execute the algorithm will not cross this worst-case running time\n",
    "### Best case running time\n",
    "**This best case running time is the minimum time needed for an algorithm to run**\n",
    "### Average case running time\n",
    "**The average case running time is the average running time required for an algorithm to execute.**\n",
    "- In general probabilistic analysis is used to analyze average run time. Where averaging is calculated over the distribution of all the possible inputs. \n",
    "\n",
    "**However in real world scenario the worst case running time is mostly used as it guarantees that the running time will not take any longer than this**"
   ]
  },
  {
   "cell_type": "markdown",
   "metadata": {},
   "source": [
    "## Space Complexity\n",
    "- The space complexity estimates the memory requirement to execute it on a computer to produce the output as a function of input data. \n",
    "- Given two algorithm to solve the problem considering all the parameters are same, which ever the algorithm which consumes less space will be taken.\n",
    "**- The space complexity is measured in O(n) where n is the input.**"
   ]
  },
  {
   "cell_type": "markdown",
   "metadata": {},
   "source": []
  }
 ],
 "metadata": {
  "language_info": {
   "name": "python"
  },
  "orig_nbformat": 4
 },
 "nbformat": 4,
 "nbformat_minor": 2
}
