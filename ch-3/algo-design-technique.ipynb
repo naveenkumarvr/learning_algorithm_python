{
 "cells": [
  {
   "cell_type": "markdown",
   "metadata": {},
   "source": [
    "# Algorithm Design\n",
    "\n",
    "- Finding optimal solution for computing a problem can be identified by the below steps\n",
    "    - Formulate the problem clearly\n",
    "    - Identify the appropriate algorithm design technique based on the structure of the problem for an efficient solution \n",
    "- Types of algorithm\n",
    "    - Recursion\n",
    "    - Divide and Conquer\n",
    "    - Dynamic programming\n",
    "    - Greedy Algorithm"
   ]
  },
  {
   "cell_type": "markdown",
   "metadata": {},
   "source": [
    "## Recursion\n",
    "\n",
    "- It calls the condition repeatedly in order to solve the problem until a certain condition is fulfilled. \n",
    "- Each recursive call will spin off another recursive call. Each recursive function can be an infinite loop, therefore it is required that each recursive function adheres to certain properties. \n",
    "- At core recursive function are two types of cases\n",
    "    - Base Cases\n",
    "        - These tell the recursion when to terminate, meaning the recursion will be stopped once the base condition is met.\n",
    "    - Recursive Cases\n",
    "        - The function calls itself recursively and we progress towards achieving the base criteria\n"
   ]
  },
  {
   "cell_type": "code",
   "execution_count": null,
   "metadata": {},
   "outputs": [],
   "source": [
    "# Example:\n",
    "def factorial(n):\n",
    "    # test for a base case\n",
    "    if n == 0:\n",
    "        return 1\n",
    "    else:\n",
    "    # make a calculation and a recursive call\n",
    "        return n*factorial(n-1) \n",
    "print(factorial(4))\n",
    "\n",
    "# This continues until we reach the factorial of 0, which returns 1. Now, each function returns the value to finally compute 1*1*2*3*4=24, which is the final output of the function."
   ]
  },
  {
   "cell_type": "markdown",
   "metadata": {},
   "source": [
    "## Divide and Conquer\n",
    "- The divide and conquer paradigm divides the problem inn to smaller sub problem and solve the smaller problem then combines the result to obtain global optimal solution\n",
    "- The smaller problems are solved recursively. Then finally the results are merged to obtain final solution.\n",
    "\n",
    "### Some of the Divide and Conquer design technique are\n",
    "- Binary Search\n",
    "- Merge Sort\n",
    "- Quick Sort\n",
    "- Algorithm for fast multiplication\n",
    "- Strassen's Matrix multiplication\n",
    "- Closest pair of points"
   ]
  },
  {
   "cell_type": "markdown",
   "metadata": {},
   "source": [
    "### Binary Search\n",
    "#### How it works\n",
    "- It first compares the search element with the middle element of the list\n",
    "- If the search element is smaller than the middle element then the half of the list of elements greater than the middle element is discarded\n",
    "- This process repeats recursively until the search element is found or we reach the end of the list.\n",
    "**- It is important to note that for each iteration half of the search space is discarded, which improves the performance of the overall algorithm because there are fewer elements to search through**\n",
    "- In the below example the binary search needs 4 attempt to search number 13. If we double the list size it only need 5 attempt as on the 1st search the size of the list is cut in to half\n",
    "**- So We say that when we have a list of length n the number of search required will be the number of times we repeated halving the list until we are left with 1 element plus 1 which is mathematically equal to (log2 n + 1). For example if n=8 the output will be 3**\n",
    "- The list is divided in half in each iteration; with the divide-and-conquer strategy, the worst-case time complexity of the binary search algorithm is O(log n)"
   ]
  },
  {
   "cell_type": "code",
   "execution_count": null,
   "metadata": {},
   "outputs": [],
   "source": [
    "# Binary Search Example\n",
    "\n",
    "def binary_search(arr, start, end, key):\n",
    "    mid = 0\n",
    "    while start <= end:\n",
    "        mid = int(start + (end - start)/2)\n",
    "        if arr[mid] == key:  \n",
    "            return mid  \n",
    "        elif arr[mid] < key:  \n",
    "            start = mid + 1  \n",
    "        else:  \n",
    "            end = mid - 1\n",
    "        print(\"PostCalc\")  \n",
    "        print(f\"start:{start}, mid: {mid}, end:{end}\")\n",
    "    return -1  \n",
    "arr = [4, 6, 9, 13, 14, 18, 21, 24, 38] \n",
    "x = 13\n",
    "result = binary_search(arr, 0, len(arr)-1, x)  \n",
    "print(result)"
   ]
  }
 ],
 "metadata": {
  "kernelspec": {
   "display_name": "venv_algo_learn",
   "language": "python",
   "name": "python3"
  },
  "language_info": {
   "codemirror_mode": {
    "name": "ipython",
    "version": 3
   },
   "file_extension": ".py",
   "mimetype": "text/x-python",
   "name": "python",
   "nbconvert_exporter": "python",
   "pygments_lexer": "ipython3",
   "version": "3.9.6"
  },
  "orig_nbformat": 4
 },
 "nbformat": 4,
 "nbformat_minor": 2
}
